{
 "cells": [
  {
   "cell_type": "code",
   "execution_count": 103,
   "id": "6d933bba-1be5-4a59-b514-5f6eefaf6291",
   "metadata": {},
   "outputs": [
    {
     "data": {
      "text/html": [
       "<div>\n",
       "<style scoped>\n",
       "    .dataframe tbody tr th:only-of-type {\n",
       "        vertical-align: middle;\n",
       "    }\n",
       "\n",
       "    .dataframe tbody tr th {\n",
       "        vertical-align: top;\n",
       "    }\n",
       "\n",
       "    .dataframe thead th {\n",
       "        text-align: right;\n",
       "    }\n",
       "</style>\n",
       "<table border=\"1\" class=\"dataframe\">\n",
       "  <thead>\n",
       "    <tr style=\"text-align: right;\">\n",
       "      <th></th>\n",
       "      <th>longitude</th>\n",
       "      <th>latitude</th>\n",
       "      <th>housing_median_age</th>\n",
       "      <th>total_rooms</th>\n",
       "      <th>total_bedrooms</th>\n",
       "      <th>population</th>\n",
       "      <th>households</th>\n",
       "      <th>median_income</th>\n",
       "      <th>median_house_value</th>\n",
       "      <th>ocean_proximity</th>\n",
       "    </tr>\n",
       "  </thead>\n",
       "  <tbody>\n",
       "    <tr>\n",
       "      <th>0</th>\n",
       "      <td>-122.23</td>\n",
       "      <td>37.88</td>\n",
       "      <td>41</td>\n",
       "      <td>880</td>\n",
       "      <td>129.0</td>\n",
       "      <td>322</td>\n",
       "      <td>126</td>\n",
       "      <td>8.3252</td>\n",
       "      <td>452600</td>\n",
       "      <td>NEAR BAY</td>\n",
       "    </tr>\n",
       "    <tr>\n",
       "      <th>1</th>\n",
       "      <td>-122.22</td>\n",
       "      <td>37.86</td>\n",
       "      <td>21</td>\n",
       "      <td>7099</td>\n",
       "      <td>1106.0</td>\n",
       "      <td>2401</td>\n",
       "      <td>1138</td>\n",
       "      <td>8.3014</td>\n",
       "      <td>358500</td>\n",
       "      <td>NEAR BAY</td>\n",
       "    </tr>\n",
       "    <tr>\n",
       "      <th>2</th>\n",
       "      <td>-122.24</td>\n",
       "      <td>37.85</td>\n",
       "      <td>52</td>\n",
       "      <td>1467</td>\n",
       "      <td>190.0</td>\n",
       "      <td>496</td>\n",
       "      <td>177</td>\n",
       "      <td>7.2574</td>\n",
       "      <td>352100</td>\n",
       "      <td>NEAR BAY</td>\n",
       "    </tr>\n",
       "    <tr>\n",
       "      <th>3</th>\n",
       "      <td>-122.25</td>\n",
       "      <td>37.85</td>\n",
       "      <td>52</td>\n",
       "      <td>1274</td>\n",
       "      <td>235.0</td>\n",
       "      <td>558</td>\n",
       "      <td>219</td>\n",
       "      <td>5.6431</td>\n",
       "      <td>341300</td>\n",
       "      <td>NEAR BAY</td>\n",
       "    </tr>\n",
       "    <tr>\n",
       "      <th>4</th>\n",
       "      <td>-122.25</td>\n",
       "      <td>37.85</td>\n",
       "      <td>52</td>\n",
       "      <td>1627</td>\n",
       "      <td>280.0</td>\n",
       "      <td>565</td>\n",
       "      <td>259</td>\n",
       "      <td>3.8462</td>\n",
       "      <td>342200</td>\n",
       "      <td>NEAR BAY</td>\n",
       "    </tr>\n",
       "  </tbody>\n",
       "</table>\n",
       "</div>"
      ],
      "text/plain": [
       "   longitude  latitude  housing_median_age  total_rooms  total_bedrooms  \\\n",
       "0    -122.23     37.88                  41          880           129.0   \n",
       "1    -122.22     37.86                  21         7099          1106.0   \n",
       "2    -122.24     37.85                  52         1467           190.0   \n",
       "3    -122.25     37.85                  52         1274           235.0   \n",
       "4    -122.25     37.85                  52         1627           280.0   \n",
       "\n",
       "   population  households  median_income  median_house_value ocean_proximity  \n",
       "0         322         126         8.3252              452600        NEAR BAY  \n",
       "1        2401        1138         8.3014              358500        NEAR BAY  \n",
       "2         496         177         7.2574              352100        NEAR BAY  \n",
       "3         558         219         5.6431              341300        NEAR BAY  \n",
       "4         565         259         3.8462              342200        NEAR BAY  "
      ]
     },
     "execution_count": 103,
     "metadata": {},
     "output_type": "execute_result"
    }
   ],
   "source": [
    "import pandas as pd\n",
    "import numpy as np\n",
    "import wget\n",
    "df.head()"
   ]
  },
  {
   "cell_type": "markdown",
   "id": "8e67dbb1-5a50-4094-b176-496f6e714450",
   "metadata": {},
   "source": [
    "**Answer for the first question**"
   ]
  },
  {
   "cell_type": "code",
   "execution_count": 33,
   "id": "09e105dd-4ddd-4ee1-baf8-853cdad79d88",
   "metadata": {},
   "outputs": [
    {
     "data": {
      "text/plain": [
       "'2.0.3'"
      ]
     },
     "execution_count": 33,
     "metadata": {},
     "output_type": "execute_result"
    }
   ],
   "source": [
    "pd.__version__"
   ]
  },
  {
   "cell_type": "markdown",
   "id": "6d32b073-0dc8-47aa-857e-8d65042b6556",
   "metadata": {},
   "source": [
    "**Answer for the second question**"
   ]
  },
  {
   "cell_type": "code",
   "execution_count": 34,
   "id": "c828da6c-27a2-498d-b8cf-6b414d14a920",
   "metadata": {},
   "outputs": [
    {
     "data": {
      "text/plain": [
       "10"
      ]
     },
     "execution_count": 34,
     "metadata": {},
     "output_type": "execute_result"
    }
   ],
   "source": [
    "df = pd.read_csv(\"Book1.csv\")\n",
    "df.shape[1]"
   ]
  },
  {
   "cell_type": "markdown",
   "id": "f059d4e0-42da-4de9-8a73-9ec39d68521c",
   "metadata": {},
   "source": [
    "**Answer for the third question**"
   ]
  },
  {
   "cell_type": "code",
   "execution_count": 35,
   "id": "8af4a3c5-166c-44ff-8c95-8898699b7fc1",
   "metadata": {},
   "outputs": [
    {
     "data": {
      "text/plain": [
       "longitude             20640\n",
       "latitude              20640\n",
       "housing_median_age    20640\n",
       "total_rooms           20640\n",
       "total_bedrooms        20433\n",
       "population            20640\n",
       "households            20640\n",
       "median_income         20640\n",
       "median_house_value    20640\n",
       "ocean_proximity       20640\n",
       "dtype: int64"
      ]
     },
     "execution_count": 35,
     "metadata": {},
     "output_type": "execute_result"
    }
   ],
   "source": [
    "df.count()"
   ]
  },
  {
   "cell_type": "code",
   "execution_count": 36,
   "id": "b575edec-8b9a-4393-8d13-1e65381664cd",
   "metadata": {},
   "outputs": [
    {
     "name": "stdout",
     "output_type": "stream",
     "text": [
      "total_bedrooms    207\n",
      "dtype: int64\n"
     ]
    }
   ],
   "source": [
    "missing_values = df.isnull().sum()\n",
    "columns_with_missing_values = missing_values[missing_values > 0]\n",
    "print(columns_with_missing_values)"
   ]
  },
  {
   "cell_type": "markdown",
   "id": "efda2659-c5f6-4c37-938a-e4bc89799254",
   "metadata": {},
   "source": [
    "**Answer for the fourth question**"
   ]
  },
  {
   "cell_type": "code",
   "execution_count": 38,
   "id": "3905d446-a996-4a03-a95f-7f287147eb83",
   "metadata": {},
   "outputs": [
    {
     "name": "stdout",
     "output_type": "stream",
     "text": [
      " Number of unique values in column ocean_proximity: 5\n",
      " Unqiue values in column ocean_proximity: ['NEAR BAY' '<1H OCEAN' 'INLAND' 'NEAR OCEAN' 'ISLAND']\n"
     ]
    }
   ],
   "source": [
    "print(\" Number of unique values in column ocean_proximity:\", df[\"ocean_proximity\"].nunique())\n",
    "print(\" Unqiue values in column ocean_proximity:\", df[\"ocean_proximity\"].unique())"
   ]
  },
  {
   "cell_type": "markdown",
   "id": "20ad3f60-26ac-4ebf-9b07-08ed136bd85b",
   "metadata": {},
   "source": [
    "**Answer for the fifth question**"
   ]
  },
  {
   "cell_type": "code",
   "execution_count": 75,
   "id": "d7335763-95df-4c96-a92c-2e2e3426c923",
   "metadata": {},
   "outputs": [
    {
     "data": {
      "text/plain": [
       "259212.31179039303"
      ]
     },
     "execution_count": 75,
     "metadata": {},
     "output_type": "execute_result"
    }
   ],
   "source": [
    "Houses_near_bay = df[df[\"ocean_proximity\"] == \"NEAR BAY\"]\n",
    "Houses_near_bay[\"median_house_value\"].mean()"
   ]
  },
  {
   "cell_type": "code",
   "execution_count": 77,
   "id": "6db47c11-f2fe-4d2d-86f4-8c7b7b3ace2f",
   "metadata": {},
   "outputs": [
    {
     "data": {
      "text/plain": [
       "longitude              0\n",
       "latitude               0\n",
       "housing_median_age     0\n",
       "total_rooms            0\n",
       "total_bedrooms        20\n",
       "population             0\n",
       "households             0\n",
       "median_income          0\n",
       "median_house_value     0\n",
       "ocean_proximity        0\n",
       "dtype: int64"
      ]
     },
     "execution_count": 77,
     "metadata": {},
     "output_type": "execute_result"
    }
   ],
   "source": [
    "Houses_near_bay.isnull().sum()"
   ]
  },
  {
   "cell_type": "code",
   "execution_count": 71,
   "id": "fa1956c8-e0df-413f-baaa-b9ba58053c71",
   "metadata": {},
   "outputs": [
    {
     "data": {
      "text/plain": [
       "(20, 10)"
      ]
     },
     "execution_count": 71,
     "metadata": {},
     "output_type": "execute_result"
    }
   ],
   "source": [
    "df_null = df[df[\"total_bedrooms\"].isnull()]\n",
    "df_null = df_null[df_null[\"ocean_proximity\"] == \"NEAR BAY\" ]\n",
    "df_null.shape"
   ]
  },
  {
   "cell_type": "markdown",
   "id": "22ebbcbf-c7e2-4d00-8116-7ccd4ad1ddc3",
   "metadata": {},
   "source": [
    "**Answer for the sixth question**"
   ]
  },
  {
   "cell_type": "code",
   "execution_count": 86,
   "id": "26a2d46c-fd7e-46e3-8056-2d12af2effe4",
   "metadata": {},
   "outputs": [],
   "source": [
    "pre_fill_mean = df[\"total_bedrooms\"].mean()\n",
    "post_fill_mean = df[\"total_bedrooms\"].fillna(fill_mean).mean()"
   ]
  },
  {
   "cell_type": "code",
   "execution_count": 87,
   "id": "090f5c9a-198b-40a8-82fe-2c283e1d1c91",
   "metadata": {},
   "outputs": [
    {
     "name": "stdout",
     "output_type": "stream",
     "text": [
      "Mean post fillna: 537.8705525375617\n",
      "Mean pre fillna: 537.8705525375618\n"
     ]
    }
   ],
   "source": [
    "print(\"Mean post fillna:\", post_fill_mean)\n",
    "print(\"Mean pre fillna:\", pre_fill_mean)"
   ]
  },
  {
   "cell_type": "markdown",
   "id": "3e7d001a-c29b-4b40-8fbe-85ada812c08e",
   "metadata": {},
   "source": [
    "**Answer for the seventh question**"
   ]
  },
  {
   "cell_type": "code",
   "execution_count": 123,
   "id": "9fe1fb04-96fb-463f-b8ad-095ab628b6ca",
   "metadata": {},
   "outputs": [
    {
     "data": {
      "text/plain": [
       "array([[ 9.19403586e-04, -3.66412216e-05,  5.43072261e-05],\n",
       "       [-3.66412216e-05,  8.23303633e-06, -2.77534485e-05],\n",
       "       [ 5.43072261e-05, -2.77534485e-05,  1.00891325e-04]])"
      ]
     },
     "execution_count": 123,
     "metadata": {},
     "output_type": "execute_result"
    }
   ],
   "source": [
    "df_island = df[df[\"ocean_proximity\"] == \"ISLAND\"] \n",
    "df_columns = df_island[[\"housing_median_age\", \"total_rooms\", \"total_bedrooms\"]]\n",
    "X = df_columns.values\n",
    "XTX = np.dot( X.T, X)\n",
    "inv_XTX = np.linalg.inv(XTX)\n",
    "inv_XTX"
   ]
  },
  {
   "cell_type": "code",
   "execution_count": 119,
   "id": "cbce3ec6-c2e3-4b8a-8bc3-f9f8e9914c77",
   "metadata": {},
   "outputs": [
    {
     "data": {
      "text/plain": [
       "array([ 950, 1300,  800, 1000, 1300])"
      ]
     },
     "execution_count": 119,
     "metadata": {},
     "output_type": "execute_result"
    }
   ],
   "source": [
    "y = np.array([950, 1300, 800, 1000, 1300])\n",
    "y"
   ]
  },
  {
   "cell_type": "code",
   "execution_count": 125,
   "id": "7e18d4da-c427-4cd9-8bf1-e143141ee9e1",
   "metadata": {},
   "outputs": [
    {
     "data": {
      "text/plain": [
       "array([23.12330961, -1.48124183,  5.69922946])"
      ]
     },
     "execution_count": 125,
     "metadata": {},
     "output_type": "execute_result"
    }
   ],
   "source": [
    "w = np.dot(np.dot(inv_XTX,X.T),y)\n",
    "w"
   ]
  }
 ],
 "metadata": {
  "kernelspec": {
   "display_name": "Python 3 (ipykernel)",
   "language": "python",
   "name": "python3"
  },
  "language_info": {
   "codemirror_mode": {
    "name": "ipython",
    "version": 3
   },
   "file_extension": ".py",
   "mimetype": "text/x-python",
   "name": "python",
   "nbconvert_exporter": "python",
   "pygments_lexer": "ipython3",
   "version": "3.9.16"
  }
 },
 "nbformat": 4,
 "nbformat_minor": 5
}
